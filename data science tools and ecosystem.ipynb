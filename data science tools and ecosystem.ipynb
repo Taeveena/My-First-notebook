{
 "cells": [
  {
   "cell_type": "code",
   "execution_count": 1,
   "id": "2ea47101",
   "metadata": {},
   "outputs": [
    {
     "name": "stdout",
     "output_type": "stream",
     "text": [
      "hello world\n"
     ]
    }
   ],
   "source": [
    "print(\"hello world\")"
   ]
  },
  {
   "cell_type": "markdown",
   "id": "e55d6c64",
   "metadata": {},
   "source": [
    "# Data science tools and ecosystem"
   ]
  },
  {
   "cell_type": "markdown",
   "id": "76b2bf10",
   "metadata": {},
   "source": [
    "This is my first jupyter notebook about Data science tools.In this course i have learned about tools for data science, and language, libraries, dataset, jupyter notebook, R studio and github."
   ]
  },
  {
   "cell_type": "markdown",
   "id": "de612e90",
   "metadata": {},
   "source": [
    "# Top Languages for Data Science"
   ]
  },
  {
   "cell_type": "markdown",
   "id": "88d70c49",
   "metadata": {},
   "source": [
    "- PYTHON,\n",
    "- SQL,\n",
    "- R,\n",
    "- JAVA,\n",
    "- SCALA,\n",
    "- JULIA,\n",
    "- MATLAB,\n",
    "- C/C++,\n",
    "- SAS,\n",
    "- SWIFT,\n",
    "- JAVA SCRIPT"
   ]
  },
  {
   "cell_type": "markdown",
   "id": "fdb4dbcd",
   "metadata": {},
   "source": [
    "# LIST OF LIBRARIES"
   ]
  },
  {
   "cell_type": "markdown",
   "id": "ff716702",
   "metadata": {},
   "source": [
    "- PANDAS,\n",
    "- NUMPY,\n",
    "- MATPLOTLIB\n",
    "- SCIKIT LEARN,\n",
    "- SCIPY,\n",
    "- PYTORCH,\n",
    "- TENSOR FLOW,\n",
    "- KERAS,\n",
    "- SEABORN.\n",
    "- PLOTLY.\n"
   ]
  },
  {
   "cell_type": "markdown",
   "id": "807242c7",
   "metadata": {},
   "source": [
    "## Data science tools"
   ]
  },
  {
   "cell_type": "markdown",
   "id": "ca02d634",
   "metadata": {},
   "source": [
    "  |Categories                     |Tools|\n",
    "  |:------------------------------|:------------|\n",
    "|Data Management                  |My SQL,postgre sql,MongoDB,Apache couchDB,Cassandra,Hadoop file system,ceph|\n",
    "|Data integration and transformation|Apache airflow,Sparksql,NodeRED,Kubeflow,apache kafka|\n",
    "|Data visualization               |Pixie dust,Hue,Kibana,Apache superset|\n",
    "|Model deployment                 |Apache predictionIO,seldon,Kubernetes,Redhat,Tensor flow,Mleap|\n",
    "|Model monitoring                 |ModelDB,prometheus,IBM AI fairness360,IBM adversarial robustness 360 toolbox|\n",
    "|Code asset management            |Git,Github,Gitlab,Bitbucket|\n",
    "|Data assest management           |Apache Atlas,ODPi Egeria,Kylo| \n"
   ]
  },
  {
   "cell_type": "markdown",
   "id": "2d222858",
   "metadata": {},
   "source": [
    "#  Arithmetic Expression"
   ]
  },
  {
   "cell_type": "markdown",
   "id": "48581fe8",
   "metadata": {},
   "source": [
    "\\begin{align*}\n",
    "(a+b)^2 = a^2+2ab+b^2\n",
    "\\end{align*}"
   ]
  },
  {
   "cell_type": "code",
   "execution_count": 13,
   "id": "37369a3e",
   "metadata": {},
   "outputs": [
    {
     "name": "stdout",
     "output_type": "stream",
     "text": [
      "23\n"
     ]
    }
   ],
   "source": [
    "# Multiply and add two numbers\n",
    "a=3\n",
    "b=4\n",
    "c=5\n",
    "d=a+(4*5)\n",
    "print(d)\n"
   ]
  },
  {
   "cell_type": "code",
   "execution_count": 14,
   "id": "d79cc789",
   "metadata": {},
   "outputs": [
    {
     "name": "stdout",
     "output_type": "stream",
     "text": [
      "7\n"
     ]
    }
   ],
   "source": [
    "# Convert minutes to hours\n",
    "minutes = 450\n",
    "hours = minutes//60\n",
    "print(hours)"
   ]
  },
  {
   "cell_type": "markdown",
   "id": "6abcbd7c",
   "metadata": {},
   "source": [
    "##  To list objectives"
   ]
  },
  {
   "cell_type": "markdown",
   "id": "7ea5fa4b",
   "metadata": {},
   "source": [
    "- Title\n",
    "- Introduction\n",
    "- Languages\n",
    "- Libraries\n",
    "- Tools\n",
    "- anaconda\n",
    "- arithmetic expression\n",
    "- Data sets\n",
    "- conversion\n",
    "- authors name\n",
    "- share in github"
   ]
  },
  {
   "cell_type": "markdown",
   "id": "2c517df0",
   "metadata": {},
   "source": [
    "## Author name"
   ]
  },
  {
   "cell_type": "markdown",
   "id": "75517076",
   "metadata": {},
   "source": [
    "* Lakshmi Holla\n",
    "* Niveditha Pandith\n",
    "\n"
   ]
  },
  {
   "cell_type": "markdown",
   "id": "3ad5946b",
   "metadata": {},
   "source": []
  }
 ],
 "metadata": {
  "kernelspec": {
   "display_name": "Python 3 (ipykernel)",
   "language": "python",
   "name": "python3"
  },
  "language_info": {
   "codemirror_mode": {
    "name": "ipython",
    "version": 3
   },
   "file_extension": ".py",
   "mimetype": "text/x-python",
   "name": "python",
   "nbconvert_exporter": "python",
   "pygments_lexer": "ipython3",
   "version": "3.10.9"
  }
 },
 "nbformat": 4,
 "nbformat_minor": 5
}
