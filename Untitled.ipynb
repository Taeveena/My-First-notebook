{
 "cells": [
  {
   "cell_type": "code",
   "execution_count": 1,
   "id": "5f29a279",
   "metadata": {},
   "outputs": [
    {
     "name": "stdout",
     "output_type": "stream",
     "text": [
      "hello world\n"
     ]
    }
   ],
   "source": [
    "print(\"hello world\")"
   ]
  },
  {
   "cell_type": "markdown",
   "id": "34fcc08e",
   "metadata": {},
   "source": [
    "# First project"
   ]
  },
  {
   "cell_type": "markdown",
   "id": "aefb5eb4",
   "metadata": {},
   "source": [
    "This is my first jupyter notebook about Data science tools.In this course i have learned about tools for data science, and language, libraries, dataset, jupyter notebook, R studio and github."
   ]
  },
  {
   "cell_type": "markdown",
   "id": "94c62b9e",
   "metadata": {},
   "source": [
    "# Top Languages for Data Science"
   ]
  },
  {
   "cell_type": "markdown",
   "id": "bb28e210",
   "metadata": {},
   "source": [
    "- PYTHON,\n",
    "- SQL,\n",
    "- R,\n",
    "- JAVA,\n",
    "- SCALA,\n",
    "- JULIA,\n",
    "- MATLAB,\n",
    "- C/C++,\n",
    "- SAS,\n",
    "- SWIFT,\n",
    "- JAVA SCRIPT"
   ]
  },
  {
   "cell_type": "markdown",
   "id": "b4618aa5",
   "metadata": {},
   "source": [
    "# LIST OF LIBRARIES"
   ]
  },
  {
   "cell_type": "markdown",
   "id": "66777bba",
   "metadata": {},
   "source": [
    "- PANDAS,\n",
    "- NUMPY,\n",
    "- MATPLOTLIB\n",
    "- SCIKIT LEARN,\n",
    "- SCIPY,\n",
    "- PYTORCH,\n",
    "- TENSOR FLOW,\n",
    "- KERAS,\n",
    "- SEABORN.\n",
    "- PLOTLY.\n"
   ]
  },
  {
   "cell_type": "markdown",
   "id": "101968a2",
   "metadata": {},
   "source": [
    "## Data science tools"
   ]
  },
  {
   "cell_type": "markdown",
   "id": "67063a56",
   "metadata": {},
   "source": [
    "  |Categories                     |Tools|\n",
    "  |:------------------------------|:------------|\n",
    "|Data Management                  |My SQL,postgre sql,MongoDB,Apache couchDB,Cassandra,Hadoop file system,ceph|\n",
    "|Data integration and transformation|Apache airflow,Sparksql,NodeRED,Kubeflow,apache kafka|\n",
    "|Data visualization               |Pixie dust,Hue,Kibana,Apache superset|\n",
    "|Model deployment                 |Apache predictionIO,seldon,Kubernetes,Redhat,Tensor flow,Mleap|\n",
    "|Model monitoring                 |ModelDB,prometheus,IBM AI fairness360,IBM adversarial robustness 360 toolbox|\n",
    "|Code asset management            |Git,Github,Gitlab,Bitbucket|\n",
    "|Data assest management           |Apache Atlas,ODPi Egeria,Kylo| \n"
   ]
  },
  {
   "cell_type": "markdown",
   "id": "c7b421c6",
   "metadata": {},
   "source": [
    "#  Arithmetic Expression"
   ]
  },
  {
   "cell_type": "markdown",
   "id": "bcbd0a08",
   "metadata": {},
   "source": [
    "\\begin{align*}\n",
    "(a+b)^2 = a^2+2ab+b^2\n",
    "\\end{align*}"
   ]
  },
  {
   "cell_type": "code",
   "execution_count": 13,
   "id": "6119b673",
   "metadata": {},
   "outputs": [
    {
     "name": "stdout",
     "output_type": "stream",
     "text": [
      "23\n"
     ]
    }
   ],
   "source": [
    "# Multiply and add two numbers\n",
    "a=3\n",
    "b=4\n",
    "c=5\n",
    "d=a+(4*5)\n",
    "print(d)\n"
   ]
  },
  {
   "cell_type": "code",
   "execution_count": 14,
   "id": "5fa574b2",
   "metadata": {},
   "outputs": [
    {
     "name": "stdout",
     "output_type": "stream",
     "text": [
      "7\n"
     ]
    }
   ],
   "source": [
    "# Convert minutes to hours\n",
    "minutes = 450\n",
    "hours = minutes//60\n",
    "print(hours)"
   ]
  },
  {
   "cell_type": "markdown",
   "id": "6276b3d3",
   "metadata": {},
   "source": [
    "##  To list objectives"
   ]
  },
  {
   "cell_type": "markdown",
   "id": "43736a92",
   "metadata": {},
   "source": [
    "- Title\n",
    "- Introduction\n",
    "- Languages\n",
    "- Libraries\n",
    "- Tools\n",
    "- anaconda\n",
    "- arithmetic expression\n",
    "- Data sets\n",
    "- conversion\n",
    "- authors name\n",
    "- share in github"
   ]
  },
  {
   "cell_type": "markdown",
   "id": "d7914747",
   "metadata": {},
   "source": [
    "# Author name"
   ]
  },
  {
   "cell_type": "markdown",
   "id": "590bebe4",
   "metadata": {},
   "source": [
    "* Lakshmi Holla\n",
    "* Niveditha Pandith\n",
    "\n"
   ]
  },
  {
   "cell_type": "markdown",
   "id": "0d57e9d9",
   "metadata": {},
   "source": []
  }
 ],
 "metadata": {
  "kernelspec": {
   "display_name": "Python 3 (ipykernel)",
   "language": "python",
   "name": "python3"
  },
  "language_info": {
   "codemirror_mode": {
    "name": "ipython",
    "version": 3
   },
   "file_extension": ".py",
   "mimetype": "text/x-python",
   "name": "python",
   "nbconvert_exporter": "python",
   "pygments_lexer": "ipython3",
   "version": "3.10.9"
  }
 },
 "nbformat": 4,
 "nbformat_minor": 5
}
